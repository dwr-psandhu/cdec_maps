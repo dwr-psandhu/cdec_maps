{
 "cells": [
  {
   "cell_type": "code",
   "execution_count": null,
   "id": "a5cc2217",
   "metadata": {},
   "outputs": [],
   "source": [
    "%load_ext autoreload\n",
    "%autoreload 2"
   ]
  },
  {
   "cell_type": "code",
   "execution_count": null,
   "id": "beb88dd2",
   "metadata": {},
   "outputs": [],
   "source": [
    "from cdec_maps import cdec"
   ]
  },
  {
   "cell_type": "code",
   "execution_count": null,
   "id": "3a3a1944",
   "metadata": {},
   "outputs": [],
   "source": [
    "c=cdec.CDEC()"
   ]
  },
  {
   "cell_type": "code",
   "execution_count": null,
   "id": "a18df541",
   "metadata": {},
   "outputs": [],
   "source": [
    "c.read_daily_stations()"
   ]
  },
  {
   "cell_type": "code",
   "execution_count": null,
   "id": "82f44251",
   "metadata": {},
   "outputs": [],
   "source": [
    "c.read_realtime_stations()"
   ]
  },
  {
   "cell_type": "code",
   "execution_count": null,
   "id": "15bad44c",
   "metadata": {},
   "outputs": [],
   "source": [
    "c.read_sensor_list()"
   ]
  },
  {
   "cell_type": "code",
   "execution_count": null,
   "id": "7a004199",
   "metadata": {},
   "outputs": [],
   "source": [
    "tlist = c.read_station_meta_info('FPT')"
   ]
  },
  {
   "cell_type": "code",
   "execution_count": null,
   "id": "d30906a3",
   "metadata": {},
   "outputs": [],
   "source": [
    "tlist[0]"
   ]
  },
  {
   "cell_type": "code",
   "execution_count": null,
   "id": "ea0ce81d",
   "metadata": {},
   "outputs": [],
   "source": [
    "tlist[1]"
   ]
  },
  {
   "cell_type": "code",
   "execution_count": null,
   "id": "24883733",
   "metadata": {},
   "outputs": [],
   "source": [
    "tlist[2]"
   ]
  },
  {
   "cell_type": "code",
   "execution_count": null,
   "id": "7f3fc7db",
   "metadata": {},
   "outputs": [],
   "source": [
    "c.read_station_data('FPT',20,'D','2021-10-01','2021-10-21')"
   ]
  },
  {
   "cell_type": "code",
   "execution_count": null,
   "id": "e090830c",
   "metadata": {},
   "outputs": [],
   "source": []
  }
 ],
 "metadata": {
  "kernelspec": {
   "display_name": "Python [conda env:env_cdec_maps]",
   "language": "python",
   "name": "conda-env-env_cdec_maps-py"
  },
  "language_info": {
   "codemirror_mode": {
    "name": "ipython",
    "version": 3
   },
   "file_extension": ".py",
   "mimetype": "text/x-python",
   "name": "python",
   "nbconvert_exporter": "python",
   "pygments_lexer": "ipython3",
   "version": "3.9.7"
  },
  "toc": {
   "base_numbering": 1,
   "nav_menu": {},
   "number_sections": true,
   "sideBar": true,
   "skip_h1_title": false,
   "title_cell": "Table of Contents",
   "title_sidebar": "Contents",
   "toc_cell": false,
   "toc_position": {},
   "toc_section_display": true,
   "toc_window_display": false
  }
 },
 "nbformat": 4,
 "nbformat_minor": 5
}
