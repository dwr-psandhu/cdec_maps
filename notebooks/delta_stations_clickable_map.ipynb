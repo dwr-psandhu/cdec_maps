{
 "cells": [
  {
   "cell_type": "markdown",
   "id": "d7a7e8c2",
   "metadata": {},
   "source": [
    "# Create a clickable map of CDEC stations with the Delta\n",
    "\n",
    "Display time series for selected station.\n",
    "Development notebook"
   ]
  },
  {
   "cell_type": "code",
   "execution_count": null,
   "id": "776fe784",
   "metadata": {},
   "outputs": [],
   "source": [
    "%load_ext autoreload\n",
    "%autoreload 2"
   ]
  },
  {
   "cell_type": "code",
   "execution_count": null,
   "id": "64dcf1b5",
   "metadata": {},
   "outputs": [],
   "source": [
    "import pandas as pd\n",
    "import geopandas as gpd\n",
    "\n",
    "\n",
    "from cdec_maps import cdec"
   ]
  },
  {
   "cell_type": "code",
   "execution_count": null,
   "id": "a38e98ec",
   "metadata": {},
   "outputs": [],
   "source": [
    "import hvplot.pandas\n",
    "import holoviews as hv\n",
    "from holoviews import opts"
   ]
  },
  {
   "cell_type": "code",
   "execution_count": null,
   "id": "cf83bfa6",
   "metadata": {},
   "outputs": [],
   "source": [
    "def get_all_stations():\n",
    "    c = cdec.Reader()\n",
    "    daily_stations = c.read_daily_stations()\n",
    "    realtime_stations = c.read_realtime_stations()\n",
    "    all_stations = daily_stations.merge(realtime_stations, how='outer')\n",
    "    return all_stations\n",
    "\n",
    "\n",
    "def convert_to_gpd(stations):\n",
    "    stations = gpd.GeoDataFrame(\n",
    "        stations, geometry=gpd.points_from_xy(stations.Longitude, stations.Latitude))\n",
    "    stations = stations.set_crs(epsg=4326)\n",
    "    return stations\n",
    "\n",
    "\n",
    "def station_within_delta(stations):\n",
    "    delta_boundary = gpd.read_file('./Delta_Simplified.geojson')\n",
    "    stations_delta = stations[stations.within(delta_boundary.geometry[0])]\n",
    "    return stations_delta"
   ]
  },
  {
   "cell_type": "code",
   "execution_count": null,
   "id": "fa32056c",
   "metadata": {},
   "outputs": [],
   "source": [
    "# utility function to load all stations meta data into a single table\n",
    "def station_meta_table(stations):\n",
    "    reader = cdec.Reader()\n",
    "    dfmeta = pd.DataFrame(stations.ID).reset_index(drop=True)\n",
    "    for station in stations:\n",
    "        sid = station.ID\n",
    "        dflist = reader.read_station_meta_info(sid)\n",
    "        dflist[0]\n",
    "\n",
    "\n",
    "def add_station_meta_info(stations):\n",
    "    reader = cdec.Reader()\n",
    "    stations = stations.set_index('ID')\n",
    "    result = pd.DataFrame()\n",
    "    for station in stations.iterrows():\n",
    "        station_id = station[0]\n",
    "        dflist = reader.read_station_meta_info(station_id)\n",
    "        result = pd.concat([result, stations.join(\n",
    "            dflist[1].assign(ID=station_id).set_index('ID'))])\n",
    "    # don't know why this astype is needed ?!\n",
    "    return result.dropna().astype(dtype={'Sensor Number': 'int'})"
   ]
  },
  {
   "cell_type": "code",
   "execution_count": null,
   "id": "ff6f18d8",
   "metadata": {},
   "outputs": [],
   "source": [
    "all_stations=get_all_stations()\n",
    "all_stations.head(1)"
   ]
  },
  {
   "cell_type": "code",
   "execution_count": null,
   "id": "50c023af",
   "metadata": {},
   "outputs": [],
   "source": [
    "reader = cdec.Reader()"
   ]
  },
  {
   "cell_type": "code",
   "execution_count": null,
   "id": "df4f5c68",
   "metadata": {},
   "outputs": [],
   "source": [
    "meta_info_list=[reader.read_station_meta_info(station_id)[1].assign(ID=station_id).set_index('ID') for station_id in all_stations.ID]"
   ]
  },
  {
   "cell_type": "code",
   "execution_count": null,
   "id": "a982239c",
   "metadata": {},
   "outputs": [],
   "source": [
    "len(meta_info_list), len(all_stations)"
   ]
  },
  {
   "cell_type": "code",
   "execution_count": null,
   "id": "f38fed7a",
   "metadata": {},
   "outputs": [],
   "source": [
    "dfmeta=pd.concat(meta_info_list)"
   ]
  },
  {
   "cell_type": "code",
   "execution_count": null,
   "id": "164d1708",
   "metadata": {},
   "outputs": [],
   "source": [
    "dfmeta['Sensor Number'].astype(int)"
   ]
  },
  {
   "cell_type": "code",
   "execution_count": null,
   "id": "d9a48ac6",
   "metadata": {},
   "outputs": [],
   "source": [
    "dfmeta['Sensor Number'].unique()"
   ]
  },
  {
   "cell_type": "code",
   "execution_count": null,
   "id": "54fdfad3",
   "metadata": {},
   "outputs": [],
   "source": [
    "delta_stations = station_within_delta(convert_to_gpd(get_all_stations()))\n",
    "delta_stations"
   ]
  },
  {
   "cell_type": "code",
   "execution_count": null,
   "id": "88df378e",
   "metadata": {},
   "outputs": [],
   "source": [
    "dfmeta = add_station_meta_info(delta_stations)\n",
    "dfmeta.head(1)"
   ]
  },
  {
   "cell_type": "code",
   "execution_count": null,
   "id": "bbfd7798",
   "metadata": {},
   "outputs": [],
   "source": [
    "sensor_descriptions=dfmeta['Sensor Description'].sort_values().unique()"
   ]
  },
  {
   "cell_type": "code",
   "execution_count": null,
   "id": "38e6ae9a",
   "metadata": {},
   "outputs": [],
   "source": [
    "dfmeta[['Sensor Description','Sensor Number']]"
   ]
  },
  {
   "cell_type": "code",
   "execution_count": null,
   "id": "2e317999",
   "metadata": {},
   "outputs": [],
   "source": [
    "map = delta_stations.hvplot.points(\n",
    "    geo=True, tiles='OSM', frame_width=400, hover_cols='all')"
   ]
  },
  {
   "cell_type": "code",
   "execution_count": null,
   "id": "d7d40468",
   "metadata": {},
   "outputs": [],
   "source": [
    "stn_id = 'BAC'\n",
    "meta_row = dfmeta.loc[stn_id].iloc[0, :]\n",
    "meta_row"
   ]
  },
  {
   "cell_type": "code",
   "execution_count": null,
   "id": "8bad6ce9",
   "metadata": {},
   "outputs": [],
   "source": [
    "reader = cdec.Reader()\n",
    "data = reader.read_station_data(stn_id, meta_row['Sensor Number'], cdec.get_duration_code(\n",
    "    meta_row['Duration']), start='2021-10-01', end='')\n",
    "data.head(1)"
   ]
  },
  {
   "cell_type": "code",
   "execution_count": null,
   "id": "f3b15dba",
   "metadata": {},
   "outputs": [],
   "source": [
    "crv1 = hv.Curve(data.loc[:, 'VALUE']).opts(ylabel=meta_row['Plot'])\n",
    "crv1"
   ]
  },
  {
   "cell_type": "code",
   "execution_count": null,
   "id": "5bbb263a",
   "metadata": {},
   "outputs": [],
   "source": [
    "stn_id = 'BAC'\n",
    "\n",
    "\n",
    "def show_plot(stn_id):\n",
    "    crv_list = []\n",
    "    for id, meta_row in dfmeta.loc[stn_id].iterrows():\n",
    "        data = reader.read_station_data(stn_id, meta_row['Sensor Number'], cdec.get_duration_code(\n",
    "            meta_row['Duration']), start='2021-10-01', end='')\n",
    "        crv_list.append(hv.Curve(data.loc[:, 'VALUE']).redim(\n",
    "            VALUE=meta_row['Plot']))\n",
    "    return hv.Layout(crv_list).cols(1).opts(opts.Curve(width=700))"
   ]
  },
  {
   "cell_type": "code",
   "execution_count": null,
   "id": "29e6ec1c",
   "metadata": {},
   "outputs": [],
   "source": [
    "import param\n",
    "import panel as pn\n",
    "pn.extension()"
   ]
  },
  {
   "cell_type": "code",
   "execution_count": null,
   "id": "abc34f5d",
   "metadata": {},
   "outputs": [],
   "source": [
    "import dask"
   ]
  },
  {
   "cell_type": "code",
   "execution_count": null,
   "id": "043352d1",
   "metadata": {},
   "outputs": [],
   "source": [
    "pd.Timestamp.now().floor('90D')"
   ]
  },
  {
   "cell_type": "code",
   "execution_count": null,
   "id": "ce23e16d",
   "metadata": {},
   "outputs": [],
   "source": [
    "dr=param.CalendarDateRange(default=(pd.Timestamp.now().floor('90D'),pd.Timestamp.now().ceil('1D')))"
   ]
  },
  {
   "cell_type": "code",
   "execution_count": null,
   "id": "c49ab566",
   "metadata": {},
   "outputs": [],
   "source": []
  },
  {
   "cell_type": "code",
   "execution_count": null,
   "id": "4b3dd59b",
   "metadata": {},
   "outputs": [],
   "source": [
    "class CDECPlotter(param.Parameterized):\n",
    "    selected = param.List(\n",
    "        default=[0], doc='Selected node indices to display in plot')\n",
    "    date_range = param.DateRange(default=(pd.Timestamp.now().floor('90D'),pd.Timestamp.now().ceil('1D')))\n",
    "    def __init__(self, stations, station_meta_info, **kwargs):\n",
    "        super().__init__(**kwargs)\n",
    "        self.stations = stations\n",
    "        self.stations_meta = station_meta_info\n",
    "        self.points_map = self.stations.hvplot.points(geo=True, tiles='CartoLight',  # c='WELL_TYPE',\n",
    "                                                      frame_height=400, frame_width=300,\n",
    "                                                      fill_alpha=0.9, line_alpha=0.4,\n",
    "                                                      hover_cols=['index', 'ID', 'Station'])\n",
    "        self.points_map = self.points_map.opts(opts.Points(tools=['tap', 'hover'], size=5,\n",
    "                                                           nonselection_color='red', nonselection_alpha=0.6,\n",
    "                                                           active_tools=['wheel_zoom']))\n",
    "        # create a selection and add it to a dynamic map calling back show_ts\n",
    "        self.select_stream = hv.streams.Selection1D(\n",
    "            source=self.points_map, index=[0])\n",
    "        self.select_stream.add_subscriber(self.set_selected)\n",
    "        self.reader = cdec.Reader()\n",
    "\n",
    "    def set_selected(self, index):\n",
    "        if index is None or len(index) == 0:\n",
    "            pass  # keep the previous selections\n",
    "        else:\n",
    "            self.selected = index\n",
    "\n",
    "    @param.depends('selected')\n",
    "    def show_meta(self):\n",
    "        index = self.selected\n",
    "        if index is None or len(index) == 0:\n",
    "            index = self.selected\n",
    "        # Use only the first index in the array\n",
    "        first_index = index[0]\n",
    "        dfselected = self.stations.iloc[first_index, :]\n",
    "        stn_id = dfselected['ID']\n",
    "        return pn.widgets.DataFrame(self.stations_meta.loc[stn_id, :].drop(columns='geometry'))\n",
    "\n",
    "    @dask.delayed\n",
    "    def get_sensor_data(self, stn_id, sensor_number, duration_code, start, end):\n",
    "        return self.reader.read_station_data(stn_id, sensor_number, duration_code, start, end)\n",
    "\n",
    "    def get_all_sensor_data(self, stn_id):\n",
    "        return [self.get_sensor_data(stn_id,\n",
    "                                meta_row['Sensor Number'],\n",
    "                                cdec.get_duration_code(meta_row['Duration']),\n",
    "                                start=self.date_range[0].strftime('%Y-%m-%d'),\n",
    "                                end=self.date_range[1].strftime('%Y-%m-%d'))\n",
    "                for id, meta_row in self.stations_meta.loc[stn_id].iterrows()]\n",
    "\n",
    "    @param.depends('selected')\n",
    "    def show_ts(self):\n",
    "        index = self.selected\n",
    "        if index is None or len(index) == 0:\n",
    "            index = self.selected\n",
    "        # Use only the first index in the array\n",
    "        first_index = index[0]\n",
    "        dfselected = self.stations.iloc[first_index, :]\n",
    "        stn_id = dfselected['ID']\n",
    "        stn_name = dfselected['Station']\n",
    "        # get data for each row and make a curve\n",
    "        crv_list = []\n",
    "        data_array = dask.compute(*self.get_all_sensor_data(stn_id))\n",
    "        for index, (id, meta_row) in enumerate(self.stations_meta.loc[stn_id].iterrows()):\n",
    "            data = data_array[index]\n",
    "            crv_list.append(hv.Curve(data.loc[:, 'VALUE']).redim(VALUE=meta_row['Plot'])\n",
    "                            .opts(title=f'Sensor: Description: {meta_row[\"Sensor Description\"]} {meta_row[\"Duration\"]}'))\n",
    "        layout = hv.Layout(crv_list).cols(1).opts(opts.Curve(width=900))\n",
    "        return layout.opts(title=f'{stn_id}: {stn_name}')"
   ]
  },
  {
   "cell_type": "code",
   "execution_count": null,
   "id": "724275dc",
   "metadata": {},
   "outputs": [],
   "source": [
    "plotter = CDECPlotter(delta_stations, dfmeta)"
   ]
  },
  {
   "cell_type": "code",
   "execution_count": null,
   "id": "c849c174",
   "metadata": {},
   "outputs": [],
   "source": [
    "pn.Column(pn.Row(pn.widgets.DateRangeSlider(plotter.date_range)), pn.Row(plotter.points_map, plotter.show_meta), pn.Row(plotter.show_ts))"
   ]
  },
  {
   "cell_type": "code",
   "execution_count": null,
   "id": "ffe6961b",
   "metadata": {},
   "outputs": [],
   "source": []
  }
 ],
 "metadata": {
  "kernelspec": {
   "display_name": "Python [conda env:env_cdec_maps]",
   "language": "python",
   "name": "conda-env-env_cdec_maps-py"
  },
  "language_info": {
   "codemirror_mode": {
    "name": "ipython",
    "version": 3
   },
   "file_extension": ".py",
   "mimetype": "text/x-python",
   "name": "python",
   "nbconvert_exporter": "python",
   "pygments_lexer": "ipython3",
   "version": "3.9.7"
  },
  "toc": {
   "base_numbering": 1,
   "nav_menu": {},
   "number_sections": true,
   "sideBar": true,
   "skip_h1_title": false,
   "title_cell": "Table of Contents",
   "title_sidebar": "Contents",
   "toc_cell": false,
   "toc_position": {},
   "toc_section_display": true,
   "toc_window_display": false
  }
 },
 "nbformat": 4,
 "nbformat_minor": 5
}
