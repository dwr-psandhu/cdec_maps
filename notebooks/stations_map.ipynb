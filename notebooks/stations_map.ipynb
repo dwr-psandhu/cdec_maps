{
 "cells": [
  {
   "cell_type": "code",
   "execution_count": null,
   "id": "7f8b3ce6",
   "metadata": {},
   "outputs": [],
   "source": [
    "%load_ext autoreload\n",
    "%autoreload 2"
   ]
  },
  {
   "cell_type": "code",
   "execution_count": null,
   "id": "15b8bc11",
   "metadata": {},
   "outputs": [],
   "source": [
    "from cdec_maps import cdec"
   ]
  },
  {
   "cell_type": "code",
   "execution_count": null,
   "id": "324a1ac3",
   "metadata": {},
   "outputs": [],
   "source": [
    "c=cdec.Reader()"
   ]
  },
  {
   "cell_type": "code",
   "execution_count": null,
   "id": "d458f191",
   "metadata": {},
   "outputs": [],
   "source": [
    "df=c.read_daily_stations()\n",
    "df.head()"
   ]
  },
  {
   "cell_type": "code",
   "execution_count": null,
   "id": "e4a8f634",
   "metadata": {},
   "outputs": [],
   "source": [
    "import hvplot.pandas\n",
    "import holoviews as hv\n",
    "from holoviews import opts, dim"
   ]
  },
  {
   "cell_type": "code",
   "execution_count": null,
   "id": "2216becd",
   "metadata": {},
   "outputs": [],
   "source": [
    "map = df.hvplot.points(x='Longitude',y='Latitude',hover_cols='all',geo=True,tiles='OSM')\n",
    "map"
   ]
  },
  {
   "cell_type": "code",
   "execution_count": null,
   "id": "f67bf818",
   "metadata": {},
   "outputs": [],
   "source": [
    "print(map)"
   ]
  },
  {
   "cell_type": "code",
   "execution_count": null,
   "id": "3e756f88",
   "metadata": {},
   "outputs": [],
   "source": [
    "from holoviews import streams\n",
    "selection = streams.Selection1D(source=map.points.I, index=[0])"
   ]
  },
  {
   "cell_type": "code",
   "execution_count": null,
   "id": "8c50b3e5",
   "metadata": {},
   "outputs": [],
   "source": [
    "station_meta_info = c.read_all_stations_meta_info()"
   ]
  },
  {
   "cell_type": "code",
   "execution_count": null,
   "id": "6036fe68",
   "metadata": {},
   "outputs": [],
   "source": [
    "def show_station_info(index):\n",
    "    if index == None or len(index) == 0:\n",
    "        index = [0]\n",
    "    dflist = [c.read_station_meta_info(id)[1] for id in df.iloc[index].ID]\n",
    "    return hv.Layout([hv.Table(df) in dflist]).cols(1)"
   ]
  },
  {
   "cell_type": "code",
   "execution_count": null,
   "id": "7cd128e4",
   "metadata": {},
   "outputs": [],
   "source": [
    "dmap_show_table = hv.DynamicMap(show_station_info, streams=[selection])"
   ]
  },
  {
   "cell_type": "code",
   "execution_count": null,
   "id": "ee01c405",
   "metadata": {},
   "outputs": [],
   "source": [
    "show_station_info([0])"
   ]
  },
  {
   "cell_type": "code",
   "execution_count": null,
   "id": "fbbc3bb5",
   "metadata": {},
   "outputs": [],
   "source": [
    "import geopandas as gpd\n",
    "gdf = gpd.GeoDataFrame(\n",
    "    df, geometry=gpd.points_from_xy(df.Longitude, df.Latitude))"
   ]
  },
  {
   "cell_type": "code",
   "execution_count": null,
   "id": "80080ccb",
   "metadata": {},
   "outputs": [],
   "source": [
    "gdf"
   ]
  },
  {
   "cell_type": "code",
   "execution_count": null,
   "id": "c5560f44",
   "metadata": {},
   "outputs": [],
   "source": [
    "from shapely.geometry import Polygon, LineString, Point\n",
    "delta_region=Polygon([(-123,39), (-119,39), (-119,37), (-123,37)])"
   ]
  },
  {
   "cell_type": "code",
   "execution_count": null,
   "id": "29b45b3d",
   "metadata": {},
   "outputs": [],
   "source": [
    "gdf[gdf.within(delta_region)]"
   ]
  },
  {
   "cell_type": "code",
   "execution_count": null,
   "id": "d2c904b1",
   "metadata": {},
   "outputs": [],
   "source": [
    "delta_boundary=gpd.read_file('./Legal_Delta_Boundary.geojson')"
   ]
  },
  {
   "cell_type": "code",
   "execution_count": null,
   "id": "7c401ced",
   "metadata": {},
   "outputs": [],
   "source": [
    "delta_boundary.crs"
   ]
  },
  {
   "cell_type": "code",
   "execution_count": null,
   "id": "e7c38ac1",
   "metadata": {},
   "outputs": [],
   "source": [
    "gdf=gdf.set_crs(epsg=4326)"
   ]
  },
  {
   "cell_type": "code",
   "execution_count": null,
   "id": "f42a5196",
   "metadata": {},
   "outputs": [],
   "source": [
    "delta_boundary.geometry[0]"
   ]
  },
  {
   "cell_type": "code",
   "execution_count": null,
   "id": "12fa3c6f",
   "metadata": {},
   "outputs": [],
   "source": [
    "delta_gdf=gdf[gdf.within(delta_boundary.geometry[0])]"
   ]
  },
  {
   "cell_type": "code",
   "execution_count": null,
   "id": "a0df3d27",
   "metadata": {},
   "outputs": [],
   "source": [
    "len(list(delta_gdf.ID))"
   ]
  },
  {
   "cell_type": "code",
   "execution_count": null,
   "id": "7c79aef6",
   "metadata": {},
   "outputs": [],
   "source": [
    "rdf=c.read_realtime_stations()"
   ]
  },
  {
   "cell_type": "code",
   "execution_count": null,
   "id": "c96584bc",
   "metadata": {},
   "outputs": [],
   "source": [
    "rgdf = gpd.GeoDataFrame(rdf, geometry=gpd.points_from_xy(rdf.Longitude, rdf.Latitude))"
   ]
  },
  {
   "cell_type": "code",
   "execution_count": null,
   "id": "bc32f7bd",
   "metadata": {},
   "outputs": [],
   "source": [
    "rdelta_gdf=rgdf[rgdf.within(delta_boundary.geometry[0])]"
   ]
  },
  {
   "cell_type": "code",
   "execution_count": null,
   "id": "0d67e0a4",
   "metadata": {},
   "outputs": [],
   "source": [
    "print(list(rdelta_gdf[~rdelta_gdf.ID.isin(delta_gdf.ID)].ID))"
   ]
  },
  {
   "cell_type": "code",
   "execution_count": null,
   "id": "bf24292c",
   "metadata": {},
   "outputs": [],
   "source": []
  }
 ],
 "metadata": {
  "kernelspec": {
   "display_name": "env_cdec_maps",
   "language": "python",
   "name": "python3"
  },
  "language_info": {
   "codemirror_mode": {
    "name": "ipython",
    "version": 3
   },
   "file_extension": ".py",
   "mimetype": "text/x-python",
   "name": "python",
   "nbconvert_exporter": "python",
   "pygments_lexer": "ipython3",
   "version": "3.7.13"
  },
  "toc": {
   "base_numbering": 1,
   "nav_menu": {},
   "number_sections": true,
   "sideBar": true,
   "skip_h1_title": false,
   "title_cell": "Table of Contents",
   "title_sidebar": "Contents",
   "toc_cell": false,
   "toc_position": {},
   "toc_section_display": true,
   "toc_window_display": false
  }
 },
 "nbformat": 4,
 "nbformat_minor": 5
}
