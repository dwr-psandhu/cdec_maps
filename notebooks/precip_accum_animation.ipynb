{
 "cells": [
  {
   "cell_type": "code",
   "execution_count": null,
   "id": "eac0e581",
   "metadata": {},
   "outputs": [],
   "source": [
    "%load_ext autoreload\n",
    "%autoreload 2"
   ]
  },
  {
   "cell_type": "code",
   "execution_count": null,
   "id": "9d074423",
   "metadata": {},
   "outputs": [],
   "source": [
    "from cdec_maps import cdec"
   ]
  },
  {
   "cell_type": "code",
   "execution_count": null,
   "id": "05f36618",
   "metadata": {},
   "outputs": [],
   "source": [
    "import hvplot.pandas\n",
    "import holoviews as hv\n",
    "from holoviews import opts, dim\n",
    "import geoviews as gv\n",
    "import panel as pn\n",
    "import warnings\n",
    "warnings.filterwarnings('ignore')\n",
    "import tqdm\n",
    "import pandas as pd"
   ]
  },
  {
   "cell_type": "markdown",
   "id": "72c332b6",
   "metadata": {},
   "source": [
    "# Read all stations"
   ]
  },
  {
   "cell_type": "code",
   "execution_count": null,
   "id": "7905aca5",
   "metadata": {},
   "outputs": [],
   "source": [
    "r = cdec.Reader()\n",
    "\n",
    "stations = r.read_all_stations()\n",
    "\n",
    "stations"
   ]
  },
  {
   "cell_type": "markdown",
   "id": "224cdde2",
   "metadata": {},
   "source": [
    "# Display on map"
   ]
  },
  {
   "cell_type": "code",
   "execution_count": null,
   "id": "f8b469f2",
   "metadata": {},
   "outputs": [],
   "source": [
    "stations = stations[stations.Latitude > 30]\n",
    "\n",
    "stations.hvplot.points('Longitude','Latitude',geo=True,tiles='CartoLight',hover_cols='all')"
   ]
  },
  {
   "cell_type": "markdown",
   "id": "96766d58",
   "metadata": {},
   "source": [
    "# Read stations with meta data (all in one)\n",
    "\n",
    "This is cached data and may take a long time to create as it reads all stations and their meta data and then caches it"
   ]
  },
  {
   "cell_type": "code",
   "execution_count": null,
   "id": "40de7b05",
   "metadata": {},
   "outputs": [],
   "source": [
    "stations_meta = cdec.read_stations_with_meta()\n",
    "stations_meta.head(2)"
   ]
  },
  {
   "cell_type": "code",
   "execution_count": null,
   "id": "2e783d05",
   "metadata": {},
   "outputs": [],
   "source": [
    "stations_meta = stations_meta[stations_meta.Latitude>30]"
   ]
  },
  {
   "cell_type": "markdown",
   "id": "cf93ab42",
   "metadata": {},
   "source": [
    "# Plot all stations with sensor type filtering"
   ]
  },
  {
   "cell_type": "code",
   "execution_count": null,
   "id": "4de85aa4",
   "metadata": {},
   "outputs": [],
   "source": [
    "tmap = hv.element.tiles.CartoLight()\n",
    "tmap*gv.Points(stations, kdims=['Longitude','Latitude'])\n",
    "def map_sensors(sensor_description):\n",
    "    df = stations_meta.query(f'`Sensor Description`==\"{sensor_description}\"')\n",
    "    return tmap*gv.Points(df, kdims=['Longitude','Latitude'])\n",
    "    #df.hvplot.points('Longitude','Latitude',geo=True,tiles='CartoLight',hover_cols='all').opts(xlim=(-123,117),ylim=(32,42))\n",
    "\n",
    "sensor_descs = pn.widgets.Select(options=list(stations_meta['Sensor Description'].unique()))\n",
    "dmap = hv.DynamicMap(map_sensors, streams={'sensor_description':sensor_descs})\n",
    "pn.Row(dmap,sensor_descs)"
   ]
  },
  {
   "cell_type": "markdown",
   "id": "6a2a5056",
   "metadata": {},
   "source": [
    "# Plot map of accumulated precip stations with daily duration"
   ]
  },
  {
   "cell_type": "code",
   "execution_count": null,
   "id": "28d2e3cb",
   "metadata": {},
   "outputs": [],
   "source": [
    "precip_accum_stations = stations_meta.query('`Sensor Description`==\"PRECIPITATION, ACCUMULATED, INCHES\"')\n",
    "\n",
    "precip_accum_stations\n",
    "\n",
    "precip_accum_stations = precip_accum_stations[precip_accum_stations['Data Available'].str.contains('present')]\n",
    "\n",
    "precip_accum_stations_daily = precip_accum_stations[precip_accum_stations['Duration'].str.contains('daily')]\n",
    "\n",
    "precip_accum_stations_daily.hvplot.points('Longitude','Latitude',geo=True, tiles='CartoLight',hover_cols='all')"
   ]
  },
  {
   "cell_type": "markdown",
   "id": "b5e2327f",
   "metadata": {},
   "source": [
    "# Get data for all these stations upto current and then plot on map "
   ]
  },
  {
   "cell_type": "code",
   "execution_count": null,
   "id": "ef5ae283",
   "metadata": {},
   "outputs": [],
   "source": [
    "\n",
    "#SAE -> Sacramento Executive Airport\n",
    "\n",
    "x = {sid: r.read_station_data(sid, 2, 'D', '2022-10-01','') for sid in tqdm.tqdm(precip_accum_stations_daily.ID)}\n",
    "dfs = [r.read_station_data(sid, 2, 'D', '2022-10-01','2023-01-17') for sid in precip_accum_stations_daily.ID]\n"
   ]
  },
  {
   "cell_type": "code",
   "execution_count": null,
   "id": "8628321f",
   "metadata": {},
   "outputs": [],
   "source": [
    "import holoviews as hv\n",
    "from holoviews import opts, dim"
   ]
  },
  {
   "cell_type": "code",
   "execution_count": null,
   "id": "e4bbc104",
   "metadata": {},
   "outputs": [],
   "source": [
    "date='2023-01-17'"
   ]
  },
  {
   "cell_type": "code",
   "execution_count": null,
   "id": "631695af",
   "metadata": {},
   "outputs": [],
   "source": [
    "v=[df.VALUE[pd.to_datetime(date)] for df in dfs]\n",
    "df = pd.DataFrame(v,index=precip_accum_stations_daily.ID).reset_index()\n",
    "df.columns=['ID','PRECIP_ACCUM']\n",
    "merged = precip_accum_stations_daily.merge(df,on='ID')\n"
   ]
  },
  {
   "cell_type": "code",
   "execution_count": null,
   "id": "31c22743",
   "metadata": {},
   "outputs": [],
   "source": []
  },
  {
   "cell_type": "code",
   "execution_count": null,
   "id": "4f9f4eb3",
   "metadata": {},
   "outputs": [],
   "source": [
    "def show_accum_precip_map(date):\n",
    "    v=[df.VALUE[pd.to_datetime(date)] for df in dfs]\n",
    "    df = pd.DataFrame(v,index=precip_accum_stations_daily.ID).reset_index()\n",
    "    df.columns=['ID','PRECIP_ACCUM']\n",
    "    merged = precip_accum_stations_daily.merge(df,on='ID')\n",
    "    plt = tmap*gv.Points(merged, \n",
    "               ['Longitude','Latitude']).opts(\n",
    "        color=dim('PRECIP_ACCUM'),cmap='rainbow4',cnorm='eq_hist',colorbar=True, clim=(0,70),\n",
    "        size=dim('PRECIP_ACCUM')*0.3,\n",
    "        frame_width=400)\n",
    "    return plt"
   ]
  },
  {
   "cell_type": "code",
   "execution_count": null,
   "id": "d74de854",
   "metadata": {},
   "outputs": [],
   "source": [
    "date_slider = pn.widgets.DateSlider(name='Date Slider', \n",
    "                                    start=pd.to_datetime('2022-10-01'), \n",
    "                                    end=pd.to_datetime('2023-01-19'), \n",
    "                                    value=pd.to_datetime('2023-01-17'))"
   ]
  },
  {
   "cell_type": "code",
   "execution_count": null,
   "id": "e7902687",
   "metadata": {},
   "outputs": [],
   "source": [
    "pn.Column(date_slider, hv.DynamicMap(show_accum_precip_map, streams = {'date':date_slider}))#.show()"
   ]
  },
  {
   "cell_type": "code",
   "execution_count": null,
   "id": "e730c063",
   "metadata": {},
   "outputs": [],
   "source": []
  }
 ],
 "metadata": {
  "kernelspec": {
   "display_name": "Python [conda env:env_cdec_maps]",
   "language": "python",
   "name": "conda-env-env_cdec_maps-py"
  },
  "language_info": {
   "codemirror_mode": {
    "name": "ipython",
    "version": 3
   },
   "file_extension": ".py",
   "mimetype": "text/x-python",
   "name": "python",
   "nbconvert_exporter": "python",
   "pygments_lexer": "ipython3",
   "version": "3.10.8"
  },
  "toc": {
   "base_numbering": 1,
   "nav_menu": {},
   "number_sections": true,
   "sideBar": true,
   "skip_h1_title": false,
   "title_cell": "Table of Contents",
   "title_sidebar": "Contents",
   "toc_cell": false,
   "toc_position": {},
   "toc_section_display": true,
   "toc_window_display": false
  }
 },
 "nbformat": 4,
 "nbformat_minor": 5
}
