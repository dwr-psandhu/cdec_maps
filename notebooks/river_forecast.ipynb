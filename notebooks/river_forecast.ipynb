{
 "cells": [
  {
   "cell_type": "code",
   "execution_count": null,
   "id": "da08b762",
   "metadata": {},
   "outputs": [],
   "source": [
    "import pandas as pd"
   ]
  },
  {
   "cell_type": "code",
   "execution_count": null,
   "id": "6b988dd0",
   "metadata": {},
   "outputs": [],
   "source": [
    "df = pd.read_xml('https://www.cnrfc.noaa.gov/data/kml/riverFcst.xml?random=0.3066928100273547')\n",
    "df"
   ]
  },
  {
   "cell_type": "code",
   "execution_count": null,
   "id": "51a231da",
   "metadata": {},
   "outputs": [],
   "source": [
    "import hvplot.pandas\n",
    "import warnings\n",
    "warnings.filterwarnings('ignore')"
   ]
  },
  {
   "cell_type": "code",
   "execution_count": null,
   "id": "c96414d4",
   "metadata": {},
   "outputs": [],
   "source": [
    "df.columns"
   ]
  },
  {
   "cell_type": "code",
   "execution_count": null,
   "id": "94b836ab",
   "metadata": {},
   "outputs": [],
   "source": [
    "import holoviews as hv"
   ]
  },
  {
   "cell_type": "code",
   "execution_count": null,
   "id": "a52b8b12",
   "metadata": {},
   "outputs": [],
   "source": [
    "hv.element.tiles.ESR"
   ]
  },
  {
   "cell_type": "code",
   "execution_count": null,
   "id": "b83be4c1",
   "metadata": {},
   "outputs": [],
   "source": [
    "df.hvplot.points('longitude','latitude',geo=True,tiles='CartoLight',\n",
    "                 c='amount', size=30,\n",
    "                 hover_cols=['stationName','printCrit','obsFeetFlow'])"
   ]
  },
  {
   "cell_type": "code",
   "execution_count": null,
   "id": "8250cd08",
   "metadata": {},
   "outputs": [],
   "source": []
  }
 ],
 "metadata": {
  "kernelspec": {
   "display_name": "Python [conda env:env_cdec_maps]",
   "language": "python",
   "name": "conda-env-env_cdec_maps-py"
  },
  "language_info": {
   "codemirror_mode": {
    "name": "ipython",
    "version": 3
   },
   "file_extension": ".py",
   "mimetype": "text/x-python",
   "name": "python",
   "nbconvert_exporter": "python",
   "pygments_lexer": "ipython3",
   "version": "3.10.8"
  },
  "toc": {
   "base_numbering": 1,
   "nav_menu": {},
   "number_sections": true,
   "sideBar": true,
   "skip_h1_title": false,
   "title_cell": "Table of Contents",
   "title_sidebar": "Contents",
   "toc_cell": false,
   "toc_position": {},
   "toc_section_display": true,
   "toc_window_display": false
  }
 },
 "nbformat": 4,
 "nbformat_minor": 5
}
