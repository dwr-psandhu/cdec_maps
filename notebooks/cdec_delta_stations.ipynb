{
 "cells": [
  {
   "cell_type": "markdown",
   "id": "5aab3b9d",
   "metadata": {},
   "source": [
    "# Download and cache data for Delta region\n",
    "Development notebook. "
   ]
  },
  {
   "cell_type": "code",
   "execution_count": null,
   "id": "e08c95ee",
   "metadata": {},
   "outputs": [],
   "source": [
    "%load_ext autoreload\n",
    "%autoreload 2"
   ]
  },
  {
   "cell_type": "code",
   "execution_count": null,
   "id": "64dcf1b5",
   "metadata": {},
   "outputs": [],
   "source": [
    "import pandas as pd\n",
    "import hvplot.pandas"
   ]
  },
  {
   "cell_type": "code",
   "execution_count": null,
   "id": "3326872b",
   "metadata": {},
   "outputs": [],
   "source": [
    "from cdec_maps import cdec"
   ]
  },
  {
   "cell_type": "code",
   "execution_count": null,
   "id": "ecb186f6",
   "metadata": {},
   "outputs": [],
   "source": [
    "c = cdec.Reader()"
   ]
  },
  {
   "cell_type": "code",
   "execution_count": null,
   "id": "62a039f9",
   "metadata": {},
   "outputs": [],
   "source": [
    "daily_stations = c.read_daily_stations()"
   ]
  },
  {
   "cell_type": "code",
   "execution_count": null,
   "id": "0a5fcc4e",
   "metadata": {},
   "outputs": [],
   "source": [
    "realtime_stations = c.read_realtime_stations()"
   ]
  },
  {
   "cell_type": "code",
   "execution_count": null,
   "id": "4c16dd77",
   "metadata": {},
   "outputs": [],
   "source": [
    "all_stations = daily_stations.merge(realtime_stations, how='outer')\n",
    "all_stations"
   ]
  },
  {
   "cell_type": "code",
   "execution_count": null,
   "id": "335806a5",
   "metadata": {},
   "outputs": [],
   "source": [
    "#hvplot.help(kind='points')"
   ]
  },
  {
   "cell_type": "code",
   "execution_count": null,
   "id": "7b968566",
   "metadata": {},
   "outputs": [],
   "source": [
    "all_stations.hvplot.points('Longitude',\n",
    "                           'Latitude', hover_cols='all',\n",
    "                           geo=True, tiles='OSM')\n",
    "#crs='+proj=longlat +ellps=WGS84 +datum=WGS84 +no_defs',\n",
    "#crs='+proj=merc +a=6378137 +b=6378137 +lat_ts=0.0 +lon_0=0.0 +x_0=0.0 +y_0=0 +k=1.0 +units=m +nadgrids=@null +wktext  +no_defs',\n",
    "# xlim=[-123,-121], ylim=[37,39])\n",
    "# ,ylim=(37,39))"
   ]
  },
  {
   "cell_type": "code",
   "execution_count": null,
   "id": "54fdfad3",
   "metadata": {},
   "outputs": [],
   "source": [
    "import geopandas as gpd\n",
    "all_stations = gpd.GeoDataFrame(\n",
    "    all_stations, geometry=gpd.points_from_xy(all_stations.Longitude, all_stations.Latitude))"
   ]
  },
  {
   "cell_type": "code",
   "execution_count": null,
   "id": "7a100899",
   "metadata": {},
   "outputs": [],
   "source": [
    "delta_boundary = gpd.read_file('./Delta_Simplified.geojson')"
   ]
  },
  {
   "cell_type": "code",
   "execution_count": null,
   "id": "efcebea3",
   "metadata": {},
   "outputs": [],
   "source": [
    "all_stations = all_stations.set_crs(epsg=4326)"
   ]
  },
  {
   "cell_type": "code",
   "execution_count": null,
   "id": "2e317999",
   "metadata": {},
   "outputs": [],
   "source": [
    "all_stations_delta = all_stations[all_stations.within(\n",
    "    delta_boundary.geometry[0])]"
   ]
  },
  {
   "cell_type": "code",
   "execution_count": null,
   "id": "c4817883",
   "metadata": {},
   "outputs": [],
   "source": [
    "all_stations_delta.hvplot(geo=True, tiles='OSM',\n",
    "                          frame_width=400, hover_cols='all')"
   ]
  },
  {
   "cell_type": "code",
   "execution_count": null,
   "id": "cf002fcd",
   "metadata": {},
   "outputs": [],
   "source": [
    "all_stations_delta"
   ]
  },
  {
   "cell_type": "code",
   "execution_count": null,
   "id": "764f4980",
   "metadata": {},
   "outputs": [],
   "source": [
    "delta_boundary.bounds"
   ]
  },
  {
   "cell_type": "code",
   "execution_count": null,
   "id": "0720f71c",
   "metadata": {},
   "outputs": [],
   "source": [
    "from shapely.geometry import Polygon, LineString, Point\n",
    "delta_region = Polygon(\n",
    "    [(-122.5, 39.5), (-120.5, 39.5), (-120.5, 37), (-122.5, 37)])"
   ]
  },
  {
   "cell_type": "code",
   "execution_count": null,
   "id": "cd212532",
   "metadata": {},
   "outputs": [],
   "source": [
    "all_stations_delta_region = all_stations[all_stations.within(delta_region)]"
   ]
  },
  {
   "cell_type": "code",
   "execution_count": null,
   "id": "dfeb32c3",
   "metadata": {},
   "outputs": [],
   "source": [
    "all_stations_delta_region.hvplot(\n",
    "    geo=True, tiles='OSM', frame_width=400, hover_cols='all')"
   ]
  },
  {
   "cell_type": "code",
   "execution_count": null,
   "id": "fc767417",
   "metadata": {},
   "outputs": [],
   "source": [
    "all_stations_delta_region"
   ]
  },
  {
   "cell_type": "code",
   "execution_count": null,
   "id": "a599c7fe",
   "metadata": {},
   "outputs": [],
   "source": [
    "import dask\n",
    "\n",
    "from dask.distributed import Client\n",
    "client = Client()  # start distributed scheduler locally.  Launch dashboard localhost:8787"
   ]
  },
  {
   "cell_type": "code",
   "execution_count": null,
   "id": "156bedc0",
   "metadata": {},
   "outputs": [],
   "source": [
    "delta_boundary_ids = list(all_stations_delta.ID.sort_values())\n",
    "print(len(delta_boundary_ids))"
   ]
  },
  {
   "cell_type": "code",
   "execution_count": null,
   "id": "1d8fba9c",
   "metadata": {},
   "outputs": [],
   "source": [
    "###\n",
    "import dask\n",
    "@dask.delayed\n",
    "def read_station_data_for_sensor_row(station_id, df_sensor, row_index):\n",
    "    r = cdec.Reader()\n",
    "    sensor_row = df_sensor.iloc[row_index]\n",
    "    sensor_number = sensor_row['Sensor Number']\n",
    "    duration = sensor_row['Duration']\n",
    "    sdate, edate = tuple([s.strip()\n",
    "                         for s in sensor_row['Data Available'].split('to')])\n",
    "    print(f'Reading {station_id}_{sensor_number}_{cdec.get_duration_code(duration)}')\n",
    "    df = r.read_station_data(station_id, sensor_number,\n",
    "                             cdec.get_duration_code(duration),\n",
    "                             cdec.to_date_format(sdate), cdec.to_date_format(edate))\n",
    "    return df\n",
    "##\n",
    "\n",
    "\n",
    "def cache_station_data(station_id):\n",
    "    r = cdec.Reader()\n",
    "    dflist = r.read_station_meta_info(station_id)\n",
    "    df_sensor = dflist[1]\n",
    "    #display(df_sensor)\n",
    "    delayed_tasks=[read_station_data_for_sensor_row(station_id, df_sensor, row_index) for row_index in df_sensor.index]\n",
    "    return delayed_tasks"
   ]
  },
  {
   "cell_type": "code",
   "execution_count": null,
   "id": "ed53e74d",
   "metadata": {},
   "outputs": [],
   "source": [
    "# Took about 1 h and 15 m to run last time 2021-11-02\n",
    "# Set REFRESH_CACHE to True to rerun\n",
    "# Now using dask per station sensor list \n",
    "# Took about 23 minutes to run\n",
    "# Now doing dask with all stations and all sensors\n",
    "# Took about 10 minutes to run\n",
    "REFRESH_CACHE=True\n",
    "if REFRESH_CACHE:\n",
    "    tasks = [cache_station_data(id) for id in delta_boundary_ids]"
   ]
  },
  {
   "cell_type": "code",
   "execution_count": null,
   "id": "27b79267",
   "metadata": {},
   "outputs": [],
   "source": [
    "print(f'Submitting all {len(tasks)} via dask')\n",
    "_=dask.compute(*tasks)"
   ]
  },
  {
   "cell_type": "code",
   "execution_count": null,
   "id": "fab0cacc",
   "metadata": {},
   "outputs": [],
   "source": []
  }
 ],
 "metadata": {
  "kernelspec": {
   "display_name": "Python [conda env:env_cdec_maps]",
   "language": "python",
   "name": "conda-env-env_cdec_maps-py"
  },
  "language_info": {
   "codemirror_mode": {
    "name": "ipython",
    "version": 3
   },
   "file_extension": ".py",
   "mimetype": "text/x-python",
   "name": "python",
   "nbconvert_exporter": "python",
   "pygments_lexer": "ipython3",
   "version": "3.9.7"
  },
  "toc": {
   "base_numbering": 1,
   "nav_menu": {},
   "number_sections": true,
   "sideBar": true,
   "skip_h1_title": false,
   "title_cell": "Table of Contents",
   "title_sidebar": "Contents",
   "toc_cell": false,
   "toc_position": {},
   "toc_section_display": true,
   "toc_window_display": false
  }
 },
 "nbformat": 4,
 "nbformat_minor": 5
}
