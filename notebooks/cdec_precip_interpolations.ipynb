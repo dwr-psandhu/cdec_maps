{
 "cells": [
  {
   "cell_type": "code",
   "execution_count": null,
   "id": "cf9c3326",
   "metadata": {},
   "outputs": [],
   "source": [
    "import pandas as pd\n",
    "import hvplot.pandas\n",
    "import warnings\n",
    "warnings.filterwarnings('ignore')"
   ]
  },
  {
   "cell_type": "code",
   "execution_count": null,
   "id": "165c012b",
   "metadata": {},
   "outputs": [],
   "source": [
    "import holoviews as hv\n",
    "from holoviews import opts, dim\n",
    "hv.extension('bokeh')"
   ]
  },
  {
   "cell_type": "markdown",
   "id": "0b65ef51",
   "metadata": {},
   "source": [
    "Load precipitation data"
   ]
  },
  {
   "cell_type": "code",
   "execution_count": null,
   "id": "bccd66a8",
   "metadata": {},
   "outputs": [],
   "source": [
    "from io import StringIO\n",
    "import requests\n",
    "response = requests.get('https://cdec.water.ca.gov/reportapp/javareports?name=DLYPCP')\n",
    "pcp = pd.read_html(StringIO(response.text))[0]\n",
    "pcp.columns = pcp.columns.droplevel()\n",
    "pcp = pcp[pcp.ID.notna()]\n",
    "pcp = pcp[pcp.ID.str.match('^\\\\w{3}$')]\n",
    "pcp['Month to Date'] = pd.to_numeric(pcp['Month to Date'], errors='coerce')\n",
    "pcp['WY to Date'] = pd.to_numeric(pcp['WY to Date'], errors='coerce')"
   ]
  },
  {
   "cell_type": "markdown",
   "id": "94df2c18",
   "metadata": {},
   "source": [
    "Load precipitation stations"
   ]
  },
  {
   "cell_type": "code",
   "execution_count": null,
   "id": "2136c466",
   "metadata": {},
   "outputs": [],
   "source": [
    "response = requests.get('https://cdec.water.ca.gov/reportapp/javareports?name=RealPrecip')\n",
    "stations = pd.read_html(StringIO(response.text))[0]\n",
    "stations.columns = stations.columns.droplevel()\n",
    "stations = stations[stations.ID.str.contains('^\\\\w{3}$')]\n",
    "stations\n",
    "stations.dtypes\n",
    "stations = stations.astype({'LATITUDE':float,'LONGITUDE':float})\n",
    "stations = stations[(stations.LATITUDE > 30)]# remove some junk lats"
   ]
  },
  {
   "cell_type": "markdown",
   "id": "d592b0aa",
   "metadata": {},
   "source": [
    "merge on station id"
   ]
  },
  {
   "cell_type": "code",
   "execution_count": null,
   "id": "73c2b1d1",
   "metadata": {},
   "outputs": [],
   "source": [
    "pcpm = pcp.merge(stations, on='ID')\n",
    "pcpm = pcpm.dropna(subset='WY to Date')"
   ]
  },
  {
   "cell_type": "markdown",
   "id": "3205373d",
   "metadata": {},
   "source": [
    "Map with color and size for precip to date"
   ]
  },
  {
   "cell_type": "code",
   "execution_count": null,
   "id": "ed51f8de",
   "metadata": {},
   "outputs": [],
   "source": [
    "map = pcpm.hvplot.points('LONGITUDE','LATITUDE',\n",
    "                                           geo=True, tiles='CartoLight',#tiles='ESRI',\n",
    "                                           c='WY to Date', cmap='rainbow4', cnorm='eq_hist',\n",
    "                                           hover_cols=['Month to Date','WY to Date'],\n",
    "                                           frame_width=500)#.opts(size=dim('WY to Date'))\n",
    "\n",
    "map.opts(opts.Points(size=dim('WY to Date')*0.5, alpha=0.66, active_tools=['wheel_zoom']))#, alpha=0.1*dim('Month to Date')))"
   ]
  },
  {
   "cell_type": "markdown",
   "id": "fcc75036",
   "metadata": {},
   "source": [
    "Delaunay triangulation to a trimesh"
   ]
  },
  {
   "cell_type": "code",
   "execution_count": null,
   "id": "b19223bb",
   "metadata": {},
   "outputs": [],
   "source": [
    "from scipy.spatial import Delaunay\n",
    "pts = pcpm[['LONGITUDE','LATITUDE']].values\n",
    "tris = Delaunay(pts)\n",
    "trimesh = hv.TriMesh((tris.simplices, pcpm[['LONGITUDE','LATITUDE','WY to Date']]))\n",
    "trimesh = trimesh.opts(\n",
    "    opts.TriMesh(cmap='rainbow4', edge_color='WY to Date', edge_alpha=1, filled=True, height=400, \n",
    "                 #inspection_policy='edges',\n",
    "                 tools=['hover'], width=400))\n",
    "trimesh.opts(opts.TriMesh(node_alpha=0, edge_line_alpha=0))"
   ]
  },
  {
   "cell_type": "code",
   "execution_count": null,
   "id": "21822d3d",
   "metadata": {},
   "outputs": [],
   "source": [
    "pts.shape"
   ]
  },
  {
   "cell_type": "code",
   "execution_count": null,
   "id": "f1f79ec1",
   "metadata": {},
   "outputs": [],
   "source": [
    "tris.nsimplex"
   ]
  },
  {
   "cell_type": "code",
   "execution_count": null,
   "id": "39b34841",
   "metadata": {},
   "outputs": [],
   "source": [
    "import scipy"
   ]
  },
  {
   "cell_type": "code",
   "execution_count": null,
   "id": "7c8918b1",
   "metadata": {},
   "outputs": [],
   "source": [
    "from scipy.interpolate import griddata"
   ]
  },
  {
   "cell_type": "code",
   "execution_count": null,
   "id": "1eac5fe3",
   "metadata": {},
   "outputs": [],
   "source": [
    "pts.shape"
   ]
  },
  {
   "cell_type": "code",
   "execution_count": null,
   "id": "9bb7f419",
   "metadata": {},
   "outputs": [],
   "source": [
    "pcpm['WY to Date'].shape"
   ]
  },
  {
   "cell_type": "code",
   "execution_count": null,
   "id": "2b0e22e6",
   "metadata": {},
   "outputs": [],
   "source": [
    "import numpy as np"
   ]
  },
  {
   "cell_type": "code",
   "execution_count": null,
   "id": "c9fd3740",
   "metadata": {},
   "outputs": [],
   "source": [
    "grid_x, grid_y = np.mgrid[-124:-116:100j, 32:42:200j]"
   ]
  },
  {
   "cell_type": "code",
   "execution_count": null,
   "id": "259b7ee3",
   "metadata": {},
   "outputs": [],
   "source": [
    "points = pts\n",
    "values = pcpm['WY to Date'].values\n",
    "grid_z0 = griddata(points, values, (grid_x, grid_y), method='nearest')\n",
    "grid_z1 = griddata(points, values, (grid_x, grid_y), method='linear')\n",
    "grid_z2 = griddata(points, values, (grid_x, grid_y), method='cubic')"
   ]
  },
  {
   "cell_type": "code",
   "execution_count": null,
   "id": "68fe041f",
   "metadata": {},
   "outputs": [],
   "source": [
    "values"
   ]
  },
  {
   "cell_type": "code",
   "execution_count": null,
   "id": "417a01d2",
   "metadata": {},
   "outputs": [],
   "source": [
    "grid_x.shape, grid_y.shape, grid_z0.shape"
   ]
  },
  {
   "cell_type": "code",
   "execution_count": null,
   "id": "cc9db356",
   "metadata": {},
   "outputs": [],
   "source": [
    "hv.Image((grid_x[0,:], grid_y[:,0], grid_z0)).opts(cmap='rainbow4')"
   ]
  },
  {
   "cell_type": "code",
   "execution_count": null,
   "id": "6a76db14",
   "metadata": {},
   "outputs": [],
   "source": []
  }
 ],
 "metadata": {
  "kernelspec": {
   "display_name": "Python [conda env:env_cdec_maps]",
   "language": "python",
   "name": "conda-env-env_cdec_maps-py"
  },
  "language_info": {
   "codemirror_mode": {
    "name": "ipython",
    "version": 3
   },
   "file_extension": ".py",
   "mimetype": "text/x-python",
   "name": "python",
   "nbconvert_exporter": "python",
   "pygments_lexer": "ipython3",
   "version": "3.10.8"
  },
  "toc": {
   "base_numbering": 1,
   "nav_menu": {},
   "number_sections": true,
   "sideBar": true,
   "skip_h1_title": false,
   "title_cell": "Table of Contents",
   "title_sidebar": "Contents",
   "toc_cell": false,
   "toc_position": {},
   "toc_section_display": true,
   "toc_window_display": false
  }
 },
 "nbformat": 4,
 "nbformat_minor": 5
}
