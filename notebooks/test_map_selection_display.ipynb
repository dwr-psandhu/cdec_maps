{
 "cells": [
  {
   "cell_type": "code",
   "execution_count": null,
   "id": "84ee809b",
   "metadata": {},
   "outputs": [],
   "source": [
    "%load_ext autoreload\n",
    "%autoreload 2"
   ]
  },
  {
   "cell_type": "code",
   "execution_count": null,
   "id": "350a060f",
   "metadata": {},
   "outputs": [],
   "source": [
    "import cdec_maps\n",
    "import pandas as pd\n",
    "import hvplot.pandas\n",
    "import geopandas as gpd\n",
    "import warnings\n",
    "warnings.filterwarnings('ignore')"
   ]
  },
  {
   "cell_type": "code",
   "execution_count": null,
   "id": "b399af23",
   "metadata": {},
   "outputs": [],
   "source": [
    "df = pd.DataFrame({'Latitude':[38.5, 38.6,38.9],'Longitude':[-121.6,-121.7,-120.5]})\n",
    "\n",
    "df.hvplot.points('Longitude', 'Latitude', geo=True, tiles='CartoLight')"
   ]
  },
  {
   "cell_type": "code",
   "execution_count": null,
   "id": "8162db45",
   "metadata": {},
   "outputs": [],
   "source": [
    "df = gpd.GeoDataFrame(\n",
    "        df, geometry=gpd.points_from_xy(df.Longitude, df.Latitude))\n",
    "df = df.set_crs(epsg=4326)\n",
    "\n",
    "df.hvplot.points('Longitude', 'Latitude', geo=True, tiles='CartoLight')"
   ]
  },
  {
   "cell_type": "code",
   "execution_count": null,
   "id": "25ce28c6",
   "metadata": {},
   "outputs": [],
   "source": [
    "from cdec_maps.map_selection_display import MapSelectionViewer"
   ]
  },
  {
   "cell_type": "code",
   "execution_count": null,
   "id": "9b17a7f0",
   "metadata": {},
   "outputs": [],
   "source": [
    "viewer = MapSelectionViewer(df) "
   ]
  },
  {
   "cell_type": "code",
   "execution_count": null,
   "id": "796c27ac",
   "metadata": {},
   "outputs": [],
   "source": [
    "import holoviews\n",
    "from holoviews import opts, dim\n",
    "\n",
    "viewer.points_map = viewer.points_map.opts(opts.Points(size=10))"
   ]
  },
  {
   "cell_type": "code",
   "execution_count": null,
   "id": "e8de7c35",
   "metadata": {},
   "outputs": [],
   "source": [
    "viewer.view()"
   ]
  },
  {
   "cell_type": "code",
   "execution_count": null,
   "id": "3f53f7d4",
   "metadata": {},
   "outputs": [],
   "source": [
    "print(viewer.points_map)"
   ]
  },
  {
   "cell_type": "code",
   "execution_count": null,
   "id": "8b573343",
   "metadata": {},
   "outputs": [],
   "source": []
  }
 ],
 "metadata": {
  "kernelspec": {
   "display_name": "Python [conda env:env_cdec_maps]",
   "language": "python",
   "name": "conda-env-env_cdec_maps-py"
  },
  "language_info": {
   "codemirror_mode": {
    "name": "ipython",
    "version": 3
   },
   "file_extension": ".py",
   "mimetype": "text/x-python",
   "name": "python",
   "nbconvert_exporter": "python",
   "pygments_lexer": "ipython3",
   "version": "3.10.8"
  },
  "toc": {
   "base_numbering": 1,
   "nav_menu": {},
   "number_sections": true,
   "sideBar": true,
   "skip_h1_title": false,
   "title_cell": "Table of Contents",
   "title_sidebar": "Contents",
   "toc_cell": false,
   "toc_position": {},
   "toc_section_display": true,
   "toc_window_display": false
  }
 },
 "nbformat": 4,
 "nbformat_minor": 5
}
