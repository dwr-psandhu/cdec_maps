{
 "cells": [
  {
   "cell_type": "markdown",
   "id": "12eb66e5",
   "metadata": {},
   "source": [
    "# Cache CDEC stations information"
   ]
  },
  {
   "cell_type": "code",
   "execution_count": null,
   "id": "052b9345",
   "metadata": {},
   "outputs": [],
   "source": [
    "%load_ext autoreload\n",
    "%autoreload 2"
   ]
  },
  {
   "cell_type": "code",
   "execution_count": null,
   "id": "e530bce3",
   "metadata": {},
   "outputs": [],
   "source": [
    "from cdec_maps import cdec\n",
    "from cdec_maps import cdec\n",
    "import diskcache as dc\n",
    "\n",
    "import glob\n",
    "import datetime\n",
    "import pandas as pd"
   ]
  },
  {
   "cell_type": "code",
   "execution_count": null,
   "id": "a270c349",
   "metadata": {},
   "outputs": [],
   "source": [
    "cdec.read_stations_with_meta()"
   ]
  },
  {
   "cell_type": "code",
   "execution_count": null,
   "id": "f3f0740d",
   "metadata": {},
   "outputs": [],
   "source": [
    "#FSW failed stations.ID[262], tables are too many\n",
    "#POH failed stations.ID[475]\n",
    "#HOP failed\n",
    "#GDV\n",
    "#HIB\n",
    "#MVV\n",
    "#NRN\n",
    "#OCS"
   ]
  },
  {
   "cell_type": "code",
   "execution_count": null,
   "id": "f2b5463d",
   "metadata": {},
   "outputs": [],
   "source": [
    "selected_stations = stations.query('ID in (\"FPT\",\"YBY\")')\n",
    "selected_stations"
   ]
  },
  {
   "cell_type": "code",
   "execution_count": null,
   "id": "ae64b1c7",
   "metadata": {},
   "outputs": [],
   "source": [
    "station_with_meta.dtypes"
   ]
  },
  {
   "cell_type": "code",
   "execution_count": null,
   "id": "6da7c102",
   "metadata": {},
   "outputs": [],
   "source": [
    "selected_stations.dtypes"
   ]
  },
  {
   "cell_type": "code",
   "execution_count": null,
   "id": "32c34f26",
   "metadata": {},
   "outputs": [],
   "source": [
    "station_with_meta.ID in selected_stations.ID"
   ]
  },
  {
   "cell_type": "code",
   "execution_count": null,
   "id": "0d50436e",
   "metadata": {},
   "outputs": [],
   "source": [
    "station_with_meta.join(selected_stations[['ID']].set_index('ID'),on='ID',how='inner')"
   ]
  },
  {
   "cell_type": "code",
   "execution_count": null,
   "id": "435cd02d",
   "metadata": {},
   "outputs": [],
   "source": [
    "station_with_meta.join(selected_stations,on=\"ID\")"
   ]
  },
  {
   "cell_type": "code",
   "execution_count": null,
   "id": "4fab320a",
   "metadata": {},
   "outputs": [],
   "source": []
  },
  {
   "cell_type": "code",
   "execution_count": null,
   "id": "adbde3c7",
   "metadata": {},
   "outputs": [],
   "source": []
  },
  {
   "cell_type": "code",
   "execution_count": null,
   "id": "7f661057",
   "metadata": {},
   "outputs": [],
   "source": [
    "station_with_meta[station_with_meta['Sensor Description'].str.match('PRECIP')]['Sensor Number'].unique()"
   ]
  },
  {
   "cell_type": "code",
   "execution_count": null,
   "id": "7af0177d",
   "metadata": {},
   "outputs": [],
   "source": [
    "stations_with_precip_accumulated = station_with_meta.query('`Sensor Number`==2')"
   ]
  },
  {
   "cell_type": "code",
   "execution_count": null,
   "id": "739b0d98",
   "metadata": {},
   "outputs": [],
   "source": [
    "import hvplot.pandas"
   ]
  },
  {
   "cell_type": "code",
   "execution_count": null,
   "id": "0eb7ca1b",
   "metadata": {},
   "outputs": [],
   "source": [
    "stations_with_precip_accumulated"
   ]
  },
  {
   "cell_type": "code",
   "execution_count": null,
   "id": "a2faf649",
   "metadata": {},
   "outputs": [],
   "source": [
    "import warnings\n",
    "warnings.filterwarnings('ignore')"
   ]
  },
  {
   "cell_type": "code",
   "execution_count": null,
   "id": "a2fda7e6",
   "metadata": {},
   "outputs": [],
   "source": [
    "stations_with_precip_accumulated.hvplot.points('Longitude','Latitude',geo=True,tiles='CartoLight',hover_cols='all')"
   ]
  },
  {
   "cell_type": "code",
   "execution_count": null,
   "id": "e1d354a0",
   "metadata": {},
   "outputs": [],
   "source": [
    "scurrent = stations_with_precip_accumulated[stations_with_precip_accumulated['Data Available'].str.contains('present')]"
   ]
  },
  {
   "cell_type": "code",
   "execution_count": null,
   "id": "83dce88e",
   "metadata": {},
   "outputs": [],
   "source": [
    "scurrent.groupby(['ID','Duration']).count()"
   ]
  },
  {
   "cell_type": "code",
   "execution_count": null,
   "id": "84c56ceb",
   "metadata": {},
   "outputs": [],
   "source": [
    "scurrent.query('`Duration`==\"(daily)\"')"
   ]
  },
  {
   "cell_type": "code",
   "execution_count": null,
   "id": "57e16eeb",
   "metadata": {},
   "outputs": [],
   "source": [
    "def load_data_from_cache(cache, sid, sensor_number, duration_code):\n",
    "    return cache[f'{sid}_{sensor_number}_{duration_code}']"
   ]
  },
  {
   "cell_type": "code",
   "execution_count": null,
   "id": "425d1869",
   "metadata": {},
   "outputs": [],
   "source": [
    "def read_station_data_and_cache(cache, sid, sensor_number, duration_code):\n",
    "    r = cdec.Reader()\n",
    "    key = f'{sid}_{sensor_number}_{duration_code}'\n",
    "    if key in cache:\n",
    "        data = cache[key]\n",
    "        sdate = data.last_valid_index().strftime('%Y-%m-%d')\n",
    "        edate = pd.Timestamp.now().strftime('%Y-%m-%d')\n",
    "        if sdate == edate:\n",
    "            return cache[key] # return cache, (no update cache)\n",
    "        else: # update extra days\n",
    "            data_ext = r.read_station_data(sid, sensor_number, duration_code, sdate, edate)\n",
    "            data = data.combine_first(data_ext)\n",
    "    else:\n",
    "        data = r.read_entire_station_data_for(sid, sensor_number, duration_code)\n",
    "    cache[key] = data # update cache\n",
    "    return data"
   ]
  },
  {
   "cell_type": "code",
   "execution_count": null,
   "id": "96430885",
   "metadata": {},
   "outputs": [],
   "source": [
    "data = read_station_data_and_cache(cache, 'SWX', 2, 'D')"
   ]
  },
  {
   "cell_type": "code",
   "execution_count": null,
   "id": "3142bb18",
   "metadata": {},
   "outputs": [],
   "source": [
    "precip_daily = scurrent.query('`Duration`==\"(daily)\"')"
   ]
  },
  {
   "cell_type": "code",
   "execution_count": null,
   "id": "a3319433",
   "metadata": {},
   "outputs": [],
   "source": [
    "for i, r in tqdm.tqdm(precip_daily.iloc[149:].iterrows(), total=len(precip_daily.iloc[149:])):\n",
    "    read_station_data_and_cache(cache, r['ID'], r['Sensor Number'], cdec.DURATION_MAP[r['Duration']])"
   ]
  },
  {
   "cell_type": "code",
   "execution_count": null,
   "id": "133c602e",
   "metadata": {},
   "outputs": [],
   "source": []
  }
 ],
 "metadata": {
  "kernelspec": {
   "display_name": "Python [conda env:env_cdec_maps]",
   "language": "python",
   "name": "conda-env-env_cdec_maps-py"
  },
  "language_info": {
   "codemirror_mode": {
    "name": "ipython",
    "version": 3
   },
   "file_extension": ".py",
   "mimetype": "text/x-python",
   "name": "python",
   "nbconvert_exporter": "python",
   "pygments_lexer": "ipython3",
   "version": "3.10.8"
  },
  "toc": {
   "base_numbering": 1,
   "nav_menu": {},
   "number_sections": true,
   "sideBar": true,
   "skip_h1_title": false,
   "title_cell": "Table of Contents",
   "title_sidebar": "Contents",
   "toc_cell": false,
   "toc_position": {},
   "toc_section_display": true,
   "toc_window_display": false
  }
 },
 "nbformat": 4,
 "nbformat_minor": 5
}
