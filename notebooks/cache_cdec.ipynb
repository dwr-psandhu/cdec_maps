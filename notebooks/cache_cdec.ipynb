{
 "cells": [
  {
   "cell_type": "code",
   "execution_count": null,
   "id": "052b9345",
   "metadata": {},
   "outputs": [],
   "source": [
    "%load_ext autoreload\n",
    "%autoreload 2"
   ]
  },
  {
   "cell_type": "code",
   "execution_count": null,
   "id": "9c25e2a8",
   "metadata": {},
   "outputs": [],
   "source": [
    "from cdec_maps import cdec"
   ]
  },
  {
   "cell_type": "code",
   "execution_count": null,
   "id": "c4772e87",
   "metadata": {},
   "outputs": [],
   "source": [
    "import glob\n",
    "import datetime\n",
    "import pandas as pd"
   ]
  },
  {
   "cell_type": "code",
   "execution_count": null,
   "id": "e67abe69",
   "metadata": {},
   "outputs": [],
   "source": [
    "r = cdec.Reader()"
   ]
  },
  {
   "cell_type": "code",
   "execution_count": null,
   "id": "8d69e4ae",
   "metadata": {},
   "outputs": [],
   "source": [
    "cache_dir='cdec_cache'"
   ]
  },
  {
   "cell_type": "code",
   "execution_count": null,
   "id": "c377cc7d",
   "metadata": {},
   "outputs": [],
   "source": [
    "import os\n",
    "if not os.path.exists(cache_dir): os.mkdir(cache_dir)"
   ]
  },
  {
   "cell_type": "code",
   "execution_count": null,
   "id": "e3d5ac81",
   "metadata": {},
   "outputs": [],
   "source": [
    "mtime=os.path.getmtime(f'{cache_dir}/cdec.daily_stations.pkl')\n",
    "mtime"
   ]
  },
  {
   "cell_type": "code",
   "execution_count": null,
   "id": "73baf78d",
   "metadata": {},
   "outputs": [],
   "source": [
    "glob.glob('cdec_cache/station_meta_info.07K.*.pkl')"
   ]
  },
  {
   "cell_type": "code",
   "execution_count": null,
   "id": "843c9229",
   "metadata": {},
   "outputs": [],
   "source": [
    "delta=datetime.datetime.now()-datetime.datetime.fromtimestamp(mtime)"
   ]
  },
  {
   "cell_type": "code",
   "execution_count": null,
   "id": "973898b2",
   "metadata": {},
   "outputs": [],
   "source": [
    "delta.total_seconds()"
   ]
  },
  {
   "cell_type": "code",
   "execution_count": null,
   "id": "af563b9f",
   "metadata": {},
   "outputs": [],
   "source": [
    "delta > pd.to_timedelta('1D') "
   ]
  },
  {
   "cell_type": "code",
   "execution_count": null,
   "id": "da50e5ae",
   "metadata": {},
   "outputs": [],
   "source": [
    "pd.Timestamp.now()-pd.Timestamp.fromtimestamp(mtime) > pd.to_timedelta('1D')"
   ]
  },
  {
   "cell_type": "code",
   "execution_count": null,
   "id": "d8ab7935",
   "metadata": {},
   "outputs": [],
   "source": [
    "import pandas as pd"
   ]
  },
  {
   "cell_type": "code",
   "execution_count": null,
   "id": "99bc1822",
   "metadata": {},
   "outputs": [],
   "source": [
    "df=pd.read_pickle(f'{cache_dir}/cdec.daily_stations.pkl')"
   ]
  },
  {
   "cell_type": "code",
   "execution_count": null,
   "id": "15f98da3",
   "metadata": {},
   "outputs": [],
   "source": [
    "dfdaily = r.read_daily_stations()\n",
    "dfdaily.to_pickle(f'{cache_dir}/cdec.daily_stations.pkl')"
   ]
  },
  {
   "cell_type": "code",
   "execution_count": null,
   "id": "3f859513",
   "metadata": {},
   "outputs": [],
   "source": [
    "dfreal=r.read_realtime_stations()\n",
    "dfreal.to_pickle(f'{cache_dir}/cdec.realtime_stations.pkl')"
   ]
  },
  {
   "cell_type": "code",
   "execution_count": null,
   "id": "19004bf0",
   "metadata": {},
   "outputs": [],
   "source": [
    "dfsensors=r.read_sensor_list()\n",
    "dfsensors.to_pickle(f'{cache_dir}/cdec.sensor_list.pkl')"
   ]
  },
  {
   "cell_type": "code",
   "execution_count": null,
   "id": "ada38d8b",
   "metadata": {},
   "outputs": [],
   "source": [
    "dfdaily"
   ]
  },
  {
   "cell_type": "code",
   "execution_count": null,
   "id": "0d97252e",
   "metadata": {},
   "outputs": [],
   "source": [
    "import pandas as pd\n",
    "pd.concat([dfreal.set_index('ID'),dfdaily.set_index('ID')], axis=1, join='inner').reset_index()"
   ]
  },
  {
   "cell_type": "code",
   "execution_count": null,
   "id": "55be7b7b",
   "metadata": {},
   "outputs": [],
   "source": [
    "dfdaily.merge(dfreal, on='ID', how='inner', suffixes=('_d', '_r'))"
   ]
  },
  {
   "cell_type": "code",
   "execution_count": null,
   "id": "5e52700d",
   "metadata": {},
   "outputs": [],
   "source": [
    "dfreal"
   ]
  },
  {
   "cell_type": "code",
   "execution_count": null,
   "id": "211f6137",
   "metadata": {},
   "outputs": [],
   "source": [
    "dfdaily.set_index('ID').index.difference(dfreal.set_index('ID').index)"
   ]
  },
  {
   "cell_type": "code",
   "execution_count": null,
   "id": "06fd2a21",
   "metadata": {},
   "outputs": [],
   "source": [
    "dfreal.set_index('ID').index.difference(dfdaily.set_index('ID').index)"
   ]
  },
  {
   "cell_type": "code",
   "execution_count": null,
   "id": "bab0f6e8",
   "metadata": {},
   "outputs": [],
   "source": [
    "dfall=dfdaily.merge(dfreal, on='ID', how='outer', suffixes=('_d', '_r'))\n",
    "dfall"
   ]
  },
  {
   "cell_type": "code",
   "execution_count": null,
   "id": "59d3d4b7",
   "metadata": {},
   "outputs": [],
   "source": [
    "dfall=dfall.set_index('ID')"
   ]
  },
  {
   "cell_type": "code",
   "execution_count": null,
   "id": "cb427682",
   "metadata": {},
   "outputs": [],
   "source": [
    "all_ids=[id for id in dfall.index]"
   ]
  },
  {
   "cell_type": "code",
   "execution_count": null,
   "id": "89bdd9d6",
   "metadata": {},
   "outputs": [],
   "source": [
    "failed_ids=[]\n",
    "for id in all_ids:\n",
    "    try:\n",
    "        dflist = r.read_station_meta_info(id)\n",
    "        for i,df in enumerate(dflist):\n",
    "            df.to_pickle(f'{cache_dir}/station_meta_info.{id}.{i}.pkl')\n",
    "    except Exception as exc:\n",
    "        print(f'Failed to read station meta info {id}')\n",
    "        failed_ids.append(id)"
   ]
  },
  {
   "cell_type": "code",
   "execution_count": null,
   "id": "77fd163d",
   "metadata": {},
   "outputs": [],
   "source": [
    "for id in failed_ids:\n",
    "    try:\n",
    "        dflist = r.read_station_meta_info(id)\n",
    "        for i,df in enumerate(dflist):\n",
    "            df.to_pickle(f'{cache_dir}/station_meta_info.{id}.{i}.pkl')\n",
    "    except Exception as exc:\n",
    "        print(f'Failed to read station meta info {id}')"
   ]
  },
  {
   "cell_type": "code",
   "execution_count": null,
   "id": "8860421e",
   "metadata": {},
   "outputs": [],
   "source": []
  }
 ],
 "metadata": {
  "kernelspec": {
   "display_name": "Python [conda env:env_cdec_maps]",
   "language": "python",
   "name": "conda-env-env_cdec_maps-py"
  },
  "language_info": {
   "codemirror_mode": {
    "name": "ipython",
    "version": 3
   },
   "file_extension": ".py",
   "mimetype": "text/x-python",
   "name": "python",
   "nbconvert_exporter": "python",
   "pygments_lexer": "ipython3",
   "version": "3.9.7"
  },
  "toc": {
   "base_numbering": 1,
   "nav_menu": {},
   "number_sections": true,
   "sideBar": true,
   "skip_h1_title": false,
   "title_cell": "Table of Contents",
   "title_sidebar": "Contents",
   "toc_cell": false,
   "toc_position": {},
   "toc_section_display": true,
   "toc_window_display": false
  }
 },
 "nbformat": 4,
 "nbformat_minor": 5
}
