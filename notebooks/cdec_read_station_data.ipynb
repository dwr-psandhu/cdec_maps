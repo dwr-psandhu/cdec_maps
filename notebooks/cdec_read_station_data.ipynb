{
 "cells": [
  {
   "cell_type": "code",
   "execution_count": null,
   "id": "372e8ee2",
   "metadata": {},
   "outputs": [],
   "source": [
    "%load_ext autoreload\n",
    "%autoreload 2"
   ]
  },
  {
   "cell_type": "code",
   "execution_count": null,
   "id": "4876018d",
   "metadata": {},
   "outputs": [],
   "source": [
    "from cdec_maps import cdec\n",
    "import pandas as pd"
   ]
  },
  {
   "cell_type": "code",
   "execution_count": null,
   "id": "4a9976cd",
   "metadata": {},
   "outputs": [],
   "source": [
    "station_id='LIS'"
   ]
  },
  {
   "cell_type": "code",
   "execution_count": null,
   "id": "fedf0b45",
   "metadata": {},
   "outputs": [],
   "source": [
    "r = cdec.Reader()"
   ]
  },
  {
   "cell_type": "code",
   "execution_count": null,
   "id": "71abae6d",
   "metadata": {},
   "outputs": [],
   "source": [
    "dflist=r.read_station_meta_info('LIS')\n",
    "\n",
    "dfs=dflist[1]\n",
    "dfs.head(3)"
   ]
  },
  {
   "cell_type": "code",
   "execution_count": null,
   "id": "52eaf172",
   "metadata": {},
   "outputs": [],
   "source": [
    "DURATION_MAP = {'(event)': 'E', '(daily)': 'D',\n",
    "                '(monthly)': 'M', '(hourly)': 'H'}\n",
    "DURATION_MAP_INVERTED = { DURATION_MAP[k]: k for k in DURATION_MAP.keys() }\n",
    "\n",
    "def get_duration_code(duration):\n",
    "    return DURATION_MAP[duration]\n",
    "\n",
    "\n",
    "def to_date_format(str):\n",
    "    try:\n",
    "        return pd.to_datetime(str).strftime('%Y-%m-%d')\n",
    "    except:\n",
    "        return ''\n",
    "\n",
    "###\n",
    "def read_station_data_for_sensor_row(station_id, df_sensor, row_index):\n",
    "    sensor_row = df_sensor.iloc[row_index]\n",
    "    snum = sensor_row['Sensor Number']\n",
    "    dcode = sensor_row['Duration']\n",
    "    sdate, edate = tuple([s.strip()\n",
    "                         for s in sensor_row['Data Available'].split('to')])\n",
    "    df = r.read_station_data(station_id, snum, get_duration_code(dcode), to_date_format(sdate), to_date_format(edate))\n",
    "    return df"
   ]
  },
  {
   "cell_type": "code",
   "execution_count": null,
   "id": "517c051a",
   "metadata": {},
   "outputs": [],
   "source": [
    "dfs[(dfs['Sensor Number'] == 20) & (dfs['Duration'] == DURATION_MAP_INVERTED['E'])].iloc[0]"
   ]
  },
  {
   "cell_type": "code",
   "execution_count": null,
   "id": "26c95107",
   "metadata": {},
   "outputs": [],
   "source": [
    "read_station_data_for_sensor_row('LIS', dfs, 0)"
   ]
  },
  {
   "cell_type": "code",
   "execution_count": null,
   "id": "a8a801fb",
   "metadata": {},
   "outputs": [],
   "source": [
    "df1=r.read_station_data('LIS',28,'E','2021-10-1','2021-10-15')\n",
    "df1"
   ]
  },
  {
   "cell_type": "code",
   "execution_count": null,
   "id": "9f032698",
   "metadata": {},
   "outputs": [],
   "source": [
    "df2=r.read_station_data('LIS',28,'E','2021-10-1','2021-10-30')\n",
    "df2"
   ]
  },
  {
   "cell_type": "code",
   "execution_count": null,
   "id": "3ef9b814",
   "metadata": {},
   "outputs": [],
   "source": [
    "df1.combine_first(df2)"
   ]
  },
  {
   "cell_type": "code",
   "execution_count": null,
   "id": "6147945f",
   "metadata": {},
   "outputs": [],
   "source": [
    "df2.combine_first(df1)"
   ]
  },
  {
   "cell_type": "code",
   "execution_count": null,
   "id": "f9721d1b",
   "metadata": {},
   "outputs": [],
   "source": [
    "df1.index[-1].strftime('%Y-%m-%d+%H:%M')"
   ]
  },
  {
   "cell_type": "code",
   "execution_count": null,
   "id": "d1bb607b",
   "metadata": {},
   "outputs": [],
   "source": [
    "dfs"
   ]
  },
  {
   "cell_type": "code",
   "execution_count": null,
   "id": "c4e35950",
   "metadata": {},
   "outputs": [],
   "source": [
    "def test_cache_function(): \n",
    "    for row_index in dfs.index:\n",
    "        row=dfs.iloc[row_index]\n",
    "        sensor_number=row['Sensor Number']\n",
    "        duration=get_duration_code(row['Duration'])\n",
    "        #\n",
    "        print(f'Reading {station_id}_{sensor_number}_{duration}')\n",
    "        df=read_station_data_for_sensor_row('LIS', dfs, row_index)\n",
    "        df.to_pickle(f'cdec_cache/{station_id}_{sensor_number}_{duration}.pkl')"
   ]
  },
  {
   "cell_type": "code",
   "execution_count": null,
   "id": "445df5c4",
   "metadata": {},
   "outputs": [],
   "source": [
    "import dask"
   ]
  },
  {
   "cell_type": "code",
   "execution_count": null,
   "id": "2e3feb1e",
   "metadata": {},
   "outputs": [],
   "source": [
    "from dask.distributed import Client\n",
    "client = Client()  # start distributed scheduler locally.  Launch dashboard"
   ]
  },
  {
   "cell_type": "code",
   "execution_count": null,
   "id": "cd8b9e5b",
   "metadata": {},
   "outputs": [],
   "source": [
    "def _before_caching_cache_station_data(station_id):\n",
    "    dflist=r.read_station_meta_info(station_id)\n",
    "    dfs=dflist[1]\n",
    "    display(dfs)\n",
    "    for row_index in dfs.index:\n",
    "        row=dfs.iloc[row_index]\n",
    "        sensor_number=row['Sensor Number']\n",
    "        duration=get_duration_code(row['Duration'])\n",
    "        #\n",
    "        print(f'Reading {station_id}_{sensor_number}_{duration}')\n",
    "        df=read_station_data_for_sensor_row('LIS', dfs, row_index)\n",
    "        df.to_pickle(f'cdec_cache/{station_id}_{sensor_number}_{duration}.pkl')\n",
    "        \n",
    "def cache_station_data(station_id): \n",
    "    dflist=r.read_station_meta_info(station_id)\n",
    "    dfs=dflist[1]\n",
    "    display(dfs)\n",
    "    for row_index in dfs.index:\n",
    "        row=dfs.iloc[row_index]\n",
    "        sensor_number=row['Sensor Number']\n",
    "        duration=get_duration_code(row['Duration'])\n",
    "        start_date=pd.Timestamp.now() - pd.Timedelta('1D')\n",
    "        #\n",
    "        print(f'Reading {station_id}_{sensor_number}_{duration}')\n",
    "        df=r.read_station_data(station_id,sensor_number, duration, start_date.strftime('%Y-%m-%d'), '')\n",
    "    "
   ]
  },
  {
   "cell_type": "code",
   "execution_count": null,
   "id": "20b43b5d",
   "metadata": {},
   "outputs": [],
   "source": [
    "cache_station_data('FPT')"
   ]
  },
  {
   "cell_type": "code",
   "execution_count": null,
   "id": "f854a934",
   "metadata": {},
   "outputs": [],
   "source": [
    "cache_station_data('EMM')"
   ]
  },
  {
   "cell_type": "code",
   "execution_count": null,
   "id": "f94a48d6",
   "metadata": {},
   "outputs": [],
   "source": [
    "cache_station_data('NSL')"
   ]
  },
  {
   "cell_type": "code",
   "execution_count": null,
   "id": "ef10452c",
   "metadata": {},
   "outputs": [],
   "source": [
    "cache_station_data('MRZ')"
   ]
  },
  {
   "cell_type": "code",
   "execution_count": null,
   "id": "1b426617",
   "metadata": {},
   "outputs": [],
   "source": [
    "%timeit pd.read_pickle('cdec_cache/FPT_1_E.pkl')"
   ]
  },
  {
   "cell_type": "code",
   "execution_count": null,
   "id": "1ca56429",
   "metadata": {},
   "outputs": [],
   "source": [
    "%timeit pd.read_pickle('cdec_cache/MRZ_1_E.pkl')"
   ]
  },
  {
   "cell_type": "code",
   "execution_count": null,
   "id": "e5e34994",
   "metadata": {},
   "outputs": [],
   "source": [
    "ids=['ANH','CLL','DTO','PCT','MAL','PTS']\n",
    "for id in ids:\n",
    "    cache_station_data(id)"
   ]
  },
  {
   "cell_type": "code",
   "execution_count": null,
   "id": "d0a8a032",
   "metadata": {},
   "outputs": [],
   "source": [
    "ids=['GYS','SNC','VOL','BDL','TMS','TSL','RIV','BLP','JER','CNT','INB','FAL','DSJ','FRP','DRO','FCT']\n",
    "for id in ids:\n",
    "    cache_station_data(id)"
   ]
  },
  {
   "cell_type": "code",
   "execution_count": null,
   "id": "d866cd00",
   "metadata": {},
   "outputs": [],
   "source": [
    "ids=['BET','SAL','STI','OSJ','PPT','HOL','HLL','OMR','MDM','ECD','IDB','VIC','VCU','CCW','BBI','BAP']\n",
    "for id in ids:\n",
    "    cache_station_data(id)"
   ]
  },
  {
   "cell_type": "code",
   "execution_count": null,
   "id": "d59bf141",
   "metadata": {},
   "outputs": [],
   "source": [
    "ids=['MTB','GLC','ODM','OLD','UNI','OH1','SJL','MSD','BDT','HRO','HBP','DMC','TRP','RRI','SFS']\n",
    "for id in ids:\n",
    "    cache_station_data(id)"
   ]
  },
  {
   "cell_type": "code",
   "execution_count": null,
   "id": "f3731106",
   "metadata": {},
   "outputs": [],
   "source": [
    "ids=['SOI','SXS','MIR','BXS','GES','NMR','SRH']\n",
    "for id in ids:\n",
    "    cache_station_data(id)"
   ]
  },
  {
   "cell_type": "code",
   "execution_count": null,
   "id": "6b008f2f",
   "metadata": {},
   "outputs": [],
   "source": [
    "ids_downloaded = ['MRZ', 'NSL', 'EMM', 'FPT'] + \\\n",
    "    ['ANH', 'CLL', 'DTO', 'PCT', 'MAL', 'PTS'] + \\\n",
    "    ['BET', 'SAL', 'STI', 'OSJ', 'PPT', 'HOL', 'HLL', 'OMR', 'MDM', 'ECD', 'IDB', 'VIC', 'VCU', 'CCW', 'BBI', 'BAP'] + \\\n",
    "    ['GYS', 'SNC', 'VOL', 'BDL', 'TMS', 'TSL', 'RIV', 'BLP', 'JER', 'CNT', 'INB', 'FAL', 'DSJ', 'FRP', 'DRO', 'FCT'] + \\\n",
    "    ['MTB', 'GLC', 'ODM', 'OLD', 'UNI', 'OH1', 'SJL', 'MSD', 'BDT', 'HRO', 'HBP', 'DMC', 'TRP', 'RRI', 'SFS'] + \\\n",
    "    ['SOI', 'SXS', 'MIR', 'BXS', 'GES', 'NMR', 'SRH']"
   ]
  },
  {
   "cell_type": "code",
   "execution_count": null,
   "id": "0f09b526",
   "metadata": {},
   "outputs": [],
   "source": [
    "len(ids_downloaded)"
   ]
  },
  {
   "cell_type": "code",
   "execution_count": null,
   "id": "1a021734",
   "metadata": {},
   "outputs": [],
   "source": [
    "ids_realtime=['BIF', 'BXP', 'BTD', 'RYF', 'RYI', 'CVP', 'KA0', 'CSE', 'DLC', 'DBD', 'DBI', 'DGL', 'DAR', 'FRK', 'GGS', 'GSM', 'GSS', 'GLE', 'GCT', 'ISD', 'ISH', 'JTR', 'LIR']"
   ]
  },
  {
   "cell_type": "code",
   "execution_count": null,
   "id": "f33cd49d",
   "metadata": {},
   "outputs": [],
   "source": [
    "for id in ids_realtime:\n",
    "    cache_station_data(id)"
   ]
  },
  {
   "cell_type": "code",
   "execution_count": null,
   "id": "e9df179d",
   "metadata": {},
   "outputs": [],
   "source": [
    "ids_realtime2 =['LIY', 'LIB', 'LPS', 'MBW', 'MDA', 'BIR', 'MAB', 'MHR', 'MRU', 'MUP', 'HLT', 'MHO', 'MRX', 'MFV', 'HWB', 'BEN', 'MOK', 'MKN', 'ORX', 'ORB', 'ORI', 'CIS', 'OH4', 'ORQ', 'TWA', 'OAD', 'OBD', 'ORM', 'PDC', 'PCO', 'RSL', 'DWS', 'SDC', 'SWE', 'WGS', 'SSI', 'SDI', 'SRV', 'PRI', 'RGP', 'SJD', 'SJG', 'TWI', 'VNI', 'SJC', 'SGG', 'SMR', 'SUS', 'SSS', 'SDO', 'SGA', 'SUR', 'SUT', 'SR3', 'TPI', 'TPS', 'TPP', 'TRN', 'ULC', 'UCS', 'WCI', 'LIS']"
   ]
  },
  {
   "cell_type": "code",
   "execution_count": null,
   "id": "7a277144",
   "metadata": {},
   "outputs": [],
   "source": [
    "for id in ids_realtime2:\n",
    "    cache_station_data(id)"
   ]
  },
  {
   "cell_type": "code",
   "execution_count": null,
   "id": "08be77e9",
   "metadata": {},
   "outputs": [],
   "source": []
  },
  {
   "cell_type": "code",
   "execution_count": null,
   "id": "20a64eba",
   "metadata": {},
   "outputs": [],
   "source": []
  }
 ],
 "metadata": {
  "kernelspec": {
   "display_name": "Python [conda env:env_cdec_maps]",
   "language": "python",
   "name": "conda-env-env_cdec_maps-py"
  },
  "language_info": {
   "codemirror_mode": {
    "name": "ipython",
    "version": 3
   },
   "file_extension": ".py",
   "mimetype": "text/x-python",
   "name": "python",
   "nbconvert_exporter": "python",
   "pygments_lexer": "ipython3",
   "version": "3.9.7"
  },
  "toc": {
   "base_numbering": 1,
   "nav_menu": {},
   "number_sections": true,
   "sideBar": true,
   "skip_h1_title": false,
   "title_cell": "Table of Contents",
   "title_sidebar": "Contents",
   "toc_cell": false,
   "toc_position": {},
   "toc_section_display": true,
   "toc_window_display": false
  }
 },
 "nbformat": 4,
 "nbformat_minor": 5
}
