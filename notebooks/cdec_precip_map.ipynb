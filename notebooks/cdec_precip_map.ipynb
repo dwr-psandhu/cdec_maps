{
 "cells": [
  {
   "cell_type": "code",
   "execution_count": null,
   "id": "13abff1e",
   "metadata": {},
   "outputs": [],
   "source": [
    "import pandas as pd\n",
    "import hvplot.pandas\n",
    "import warnings\n",
    "warnings.filterwarnings('ignore')"
   ]
  },
  {
   "cell_type": "code",
   "execution_count": null,
   "id": "9fd0b220",
   "metadata": {},
   "outputs": [],
   "source": [
    "import holoviews as hv\n",
    "from holoviews import opts, dim\n",
    "hv.extension('bokeh')"
   ]
  },
  {
   "cell_type": "markdown",
   "id": "5af499a4",
   "metadata": {},
   "source": [
    "Load precipitation data"
   ]
  },
  {
   "cell_type": "code",
   "execution_count": null,
   "id": "93c87c1c",
   "metadata": {},
   "outputs": [],
   "source": [
    "pcp = pd.read_html('https://cdec.water.ca.gov/reportapp/javareports?name=DLYPCP')[0]\n",
    "pcp.columns = pcp.columns.droplevel()\n",
    "pcp = pcp[pcp.ID.notna()]\n",
    "pcp = pcp[pcp.ID.str.match('^\\\\w{3}$')]\n",
    "pcp['Month to Date'] = pd.to_numeric(pcp['Month to Date'], errors='coerce')\n",
    "pcp['WY to Date'] = pd.to_numeric(pcp['WY to Date'], errors='coerce')"
   ]
  },
  {
   "cell_type": "markdown",
   "id": "55f65524",
   "metadata": {},
   "source": [
    "Load precipitation stations"
   ]
  },
  {
   "cell_type": "code",
   "execution_count": null,
   "id": "e736f3b3",
   "metadata": {},
   "outputs": [],
   "source": [
    "stations = pd.read_html('https://cdec.water.ca.gov/reportapp/javareports?name=RealPrecip')[0]\n",
    "stations.columns = stations.columns.droplevel()\n",
    "stations = stations[stations.ID.str.contains('^\\\\w{3}$')]\n",
    "stations\n",
    "stations.dtypes\n",
    "stations = stations.astype({'LATITUDE':float,'LONGITUDE':float})\n",
    "stations = stations[(stations.LATITUDE > 30)]# remove some junk lats"
   ]
  },
  {
   "cell_type": "markdown",
   "id": "7ad2392f",
   "metadata": {},
   "source": [
    "merge on station id"
   ]
  },
  {
   "cell_type": "code",
   "execution_count": null,
   "id": "daddee87",
   "metadata": {},
   "outputs": [],
   "source": [
    "pcpm = pcp.merge(stations, on='ID')\n",
    "pcpm = pcpm.dropna(subset='WY to Date')"
   ]
  },
  {
   "cell_type": "markdown",
   "id": "5386c1a8",
   "metadata": {},
   "source": [
    "Map with color and size for precip to date"
   ]
  },
  {
   "cell_type": "code",
   "execution_count": null,
   "id": "6cfdbdeb",
   "metadata": {},
   "outputs": [],
   "source": [
    "def show_precip_map(precip_total_duration='WY to Date'):\n",
    "    map = pcpm.hvplot.points('LONGITUDE','LATITUDE',\n",
    "                                               geo=True, tiles='CartoLight',#tiles='ESRI',\n",
    "                                               c=precip_total_duration, cmap='rainbow4', cnorm='eq_hist',\n",
    "                                               hover_cols=['ID','Hydrologic Area  River Basin Station',\n",
    "                                                           'Elev (FT)','Month to Date','WY to Date'],\n",
    "                                               frame_width=500)#.opts(size=dim('WY to Date'))\n",
    "\n",
    "    return map.opts(opts.Points(size=dim(precip_total_duration)*0.5, alpha=0.66, active_tools=['wheel_zoom']))#, alpha=0.1*dim('Month to Date')))"
   ]
  },
  {
   "cell_type": "code",
   "execution_count": null,
   "id": "32ecb338",
   "metadata": {},
   "outputs": [],
   "source": [
    "#show_precip_map()"
   ]
  },
  {
   "cell_type": "code",
   "execution_count": null,
   "id": "66ca78a3",
   "metadata": {},
   "outputs": [],
   "source": [
    "import panel as pn\n",
    "pn.extension()"
   ]
  },
  {
   "cell_type": "code",
   "execution_count": null,
   "id": "adbe9190",
   "metadata": {},
   "outputs": [],
   "source": [
    "precip_total_duration = pn.widgets.Select(name='Precipitation Totals for', options=['Month to Date','WY to Date'])\n",
    "\n",
    "view = pn.Column(precip_total_duration, pn.bind(show_precip_map, precip_total_duration))\n",
    "\n",
    "view.servable(title='Precipitation Totals Map(CDEC)').show()"
   ]
  },
  {
   "cell_type": "code",
   "execution_count": null,
   "id": "6ed453ca",
   "metadata": {},
   "outputs": [],
   "source": []
  }
 ],
 "metadata": {
  "kernelspec": {
   "display_name": "Python [conda env:env_cdec_maps]",
   "language": "python",
   "name": "conda-env-env_cdec_maps-py"
  },
  "language_info": {
   "codemirror_mode": {
    "name": "ipython",
    "version": 3
   },
   "file_extension": ".py",
   "mimetype": "text/x-python",
   "name": "python",
   "nbconvert_exporter": "python",
   "pygments_lexer": "ipython3",
   "version": "3.10.8"
  },
  "toc": {
   "base_numbering": 1,
   "nav_menu": {},
   "number_sections": true,
   "sideBar": true,
   "skip_h1_title": false,
   "title_cell": "Table of Contents",
   "title_sidebar": "Contents",
   "toc_cell": false,
   "toc_position": {},
   "toc_section_display": true,
   "toc_window_display": false
  }
 },
 "nbformat": 4,
 "nbformat_minor": 5
}
